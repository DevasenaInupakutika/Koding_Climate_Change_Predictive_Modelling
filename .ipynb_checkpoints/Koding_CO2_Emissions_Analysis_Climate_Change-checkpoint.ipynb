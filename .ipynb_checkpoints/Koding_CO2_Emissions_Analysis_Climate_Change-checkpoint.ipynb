{
 "metadata": {
  "name": "",
  "signature": "sha256:ebcfcea9df68310ce740e8c1d1fa6233b4fe52df8fd142511d008af22dbd0e6f"
 },
 "nbformat": 3,
 "nbformat_minor": 0,
 "worksheets": [
  {
   "cells": [
    {
     "cell_type": "code",
     "collapsed": false,
     "input": [
      "import csv\n",
      "with open('Total_Carbon_Dioxide_Emissions.csv', 'rU') as f:\n",
      "    reader = csv.reader(f)\n",
      "    \n",
      "    with open('Total_Carbon_Dioxide_Emissions_new.csv',mode='w') as outfile:\n",
      "        writer = csv.writer(outfile)\n",
      "       \n",
      "        mydict = {row[0]:row[1:31] for row in reader}\n",
      "        \n",
      "mydict.keys()\n",
      "mydict.values()\n",
      "\n",
      "print mydict[\"Canada\"]\n",
      "#mydict = dict((float(k), map(float, v)) for k, v in mydict.iteritems())"
     ],
     "language": "python",
     "metadata": {},
     "outputs": [
      {
       "output_type": "stream",
       "stream": "stdout",
       "text": [
        "['457.45', '442.09', '423.27', '410.64', '433.62', '443.67', '427.82', '445.23', '478.05', '492.57', '470.59', '465.79', '484.98', '485.46', '495.32', '508.74', '519.99', '544.91', '549.30', '566.38', '573.27', '561.88', '567.56', '597.02', '611.58', '623.43', '597.23', '610.00', '598.46', '540.97']\n"
       ]
      }
     ],
     "prompt_number": 2
    },
    {
     "cell_type": "code",
     "collapsed": false,
     "input": [
      "import matplotlib.pyplot as plt\n",
      "\n",
      "xs, ys=zip(*((x, k) for k in mydict for x in mydict[k]))\n",
      "\n",
      "#xl = [1980,1981,1982,1983,1984,1985,1986,1987,1988,1989,1990,1991,1992,1993,1994,1995,1996,1997,1998,1999,2000,2001,2002,2003,2004,2005,2006,2007,2008,2009]\n",
      "\n",
      "#for title, data_dict in mydict.iteritems():\n",
      "#    x = data_dict.keys()\n",
      "#    y = data_dict.values()\n",
      "#    plt.figure()\n",
      "#    plt.plot(x,y)\n",
      "#    plt.title(title)"
     ],
     "language": "python",
     "metadata": {},
     "outputs": [],
     "prompt_number": 3
    },
    {
     "cell_type": "code",
     "collapsed": false,
     "input": [
      "from pandas import DataFrame, read_csv\n",
      "\n",
      "# General syntax to import a library but no functions: \n",
      "##import (library) as (give the library a nickname/alias)\n",
      "import matplotlib.pyplot as plt\n",
      "import pandas as pd #this is how I usually import pandas\n",
      "\n",
      "df = pd.read_csv(\"Total_Carbon_Dioxide_Emissions.csv\")\n",
      "print df"
     ],
     "language": "python",
     "metadata": {},
     "outputs": [
      {
       "output_type": "stream",
       "stream": "stdout",
       "text": [
        "<class 'pandas.core.frame.DataFrame'>\n",
        "Int64Index: 18 entries, 0 to 17\n",
        "Data columns (total 31 columns):\n",
        "Country    18  non-null values\n",
        "1980       18  non-null values\n",
        "1981       18  non-null values\n",
        "1982       18  non-null values\n",
        "1983       18  non-null values\n",
        "1984       18  non-null values\n",
        "1985       18  non-null values\n",
        "1986       18  non-null values\n",
        "1987       18  non-null values\n",
        "1988       18  non-null values\n",
        "1989       18  non-null values\n",
        "1990       18  non-null values\n",
        "1991       18  non-null values\n",
        "1992       18  non-null values\n",
        "1993       18  non-null values\n",
        "1994       18  non-null values\n",
        "1995       18  non-null values\n",
        "1996       18  non-null values\n",
        "1997       18  non-null values\n",
        "1998       18  non-null values\n",
        "1999       18  non-null values\n",
        "2000       18  non-null values\n",
        "2001       18  non-null values\n",
        "2002       18  non-null values\n",
        "2003       18  non-null values\n",
        "2004       18  non-null values\n",
        "2005       18  non-null values\n",
        "2006       18  non-null values\n",
        "2007       18  non-null values\n",
        "2008       18  non-null values\n",
        "2009       18  non-null values\n",
        "dtypes: float64(30), object(1)\n"
       ]
      },
      {
       "output_type": "stream",
       "stream": "stderr",
       "text": [
        "/Users/user/anaconda/lib/python2.7/site-packages/pytz/__init__.py:35: UserWarning: Module argparse was already imported from /Users/user/anaconda/lib/python2.7/argparse.pyc, but /Users/user/anaconda/lib/python2.7/site-packages is being added to sys.path\n",
        "  from pkg_resources import resource_stream\n"
       ]
      }
     ],
     "prompt_number": 1
    },
    {
     "cell_type": "code",
     "collapsed": false,
     "input": [
      "df.dtypes\n"
     ],
     "language": "python",
     "metadata": {},
     "outputs": [
      {
       "metadata": {},
       "output_type": "pyout",
       "prompt_number": 5,
       "text": [
        "Country         object\n",
        "1980           float64\n",
        "1981           float64\n",
        "1982           float64\n",
        "1983           float64\n",
        "1984           float64\n",
        "1985           float64\n",
        "1986           float64\n",
        "1987           float64\n",
        "1988           float64\n",
        "1989           float64\n",
        "1990           float64\n",
        "1991           float64\n",
        "1992           float64\n",
        "1993           float64\n",
        "1994           float64\n",
        "1995           float64\n",
        "1996           float64\n",
        "1997           float64\n",
        "1998           float64\n",
        "1999           float64\n",
        "2000           float64\n",
        "2001           float64\n",
        "2002           float64\n",
        "2003           float64\n",
        "2004           float64\n",
        "2005           float64\n",
        "2006           float64\n",
        "2007           float64\n",
        "2008           float64\n",
        "2009           float64\n",
        "Unnamed: 31    float64\n",
        "Unnamed: 32    float64\n",
        "Unnamed: 33    float64\n",
        "Unnamed: 34    float64\n",
        "Unnamed: 35    float64\n",
        "Unnamed: 36    float64\n",
        "Unnamed: 37    float64\n",
        "Unnamed: 38    float64\n",
        "Unnamed: 39    float64\n",
        "Unnamed: 40    float64\n",
        "Unnamed: 41    float64\n",
        "Unnamed: 42    float64\n",
        "Unnamed: 43    float64\n",
        "dtype: object"
       ]
      }
     ],
     "prompt_number": 5
    },
    {
     "cell_type": "code",
     "collapsed": false,
     "input": [
      "print df['1980']"
     ],
     "language": "python",
     "metadata": {},
     "outputs": [
      {
       "output_type": "stream",
       "stream": "stdout",
       "text": [
        "0     18433.92\n",
        "1      3541.47\n",
        "2      1448.46\n",
        "3      4776.57\n",
        "4       291.23\n",
        "5         0.00\n",
        "6       627.37\n",
        "7       947.01\n",
        "8         0.00\n",
        "9       457.45\n",
        "10      131.74\n",
        "11      116.83\n",
        "12      613.57\n",
        "13      176.92\n",
        "14      235.03\n",
        "15      240.33\n",
        "16      185.66\n",
        "17      198.83\n",
        "Name: 1980, dtype: float64\n"
       ]
      }
     ],
     "prompt_number": 6
    },
    {
     "cell_type": "code",
     "collapsed": false,
     "input": [
      "df.rename(columns=lambda x: ' ' + str(x), inplace=True)\n",
      "df.plot()\n",
      "plt.savefig('Emissions_2.png')"
     ],
     "language": "python",
     "metadata": {},
     "outputs": [],
     "prompt_number": 7
    },
    {
     "cell_type": "code",
     "collapsed": false,
     "input": [],
     "language": "python",
     "metadata": {},
     "outputs": []
    },
    {
     "cell_type": "code",
     "collapsed": false,
     "input": [],
     "language": "python",
     "metadata": {},
     "outputs": []
    }
   ],
   "metadata": {}
  }
 ]
}