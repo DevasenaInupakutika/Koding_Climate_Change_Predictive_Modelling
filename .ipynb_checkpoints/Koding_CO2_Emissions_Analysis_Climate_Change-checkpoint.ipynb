{
 "metadata": {
  "name": "",
  "signature": "sha256:d3770870c328912976c4fe24e49242101638bb9b026782ac5b1816f4747e5e3c"
 },
 "nbformat": 3,
 "nbformat_minor": 0,
 "worksheets": [
  {
   "cells": [
    {
     "cell_type": "code",
     "collapsed": false,
     "input": [
      "import csv\n",
      "with open('Total_Carbon_Dioxide_Emissions.csv', 'rU') as f:\n",
      "    reader = csv.reader(f)\n",
      "    \n",
      "    with open('Total_Carbon_Dioxide_Emissions_new.csv',mode='w') as outfile:\n",
      "        writer = csv.writer(outfile)\n",
      "       \n",
      "        mydict = {row[0]:row[1:31] for row in reader}\n",
      "        \n",
      "mydict.keys()\n",
      "mydict.values()"
     ],
     "language": "python",
     "metadata": {},
     "outputs": []
    },
    {
     "cell_type": "code",
     "collapsed": false,
     "input": [
      "import matplotlib.pyplot as plt\n",
      "\n",
      "colors = list(\"rgbcmyk\")\n",
      "\n",
      "x = [1980,1981,1982,1983,1984,1985,1986,1987,1988,1989,1990,1991,1992,1993,1994,1995,1996,1997,1998,1999,2000,2001,2002,2003,2004,2005,2006,2007,2008,2009] \n",
      "with open('Total_Carbon_Dioxide_Emissions.csv', 'rU') as f:\n",
      "    reader = csv.reader(f)\n",
      "    y = {row[1:31] for row in reader}\n",
      "\n",
      "    plt.scatter(x,y,color=colors.pop())\n",
      "  \n",
      "\n",
      "plt.legend(mydict.keys())\n",
      "plt.show()"
     ],
     "language": "python",
     "metadata": {},
     "outputs": [
      {
       "ename": "ValueError",
       "evalue": "I/O operation on closed file",
       "output_type": "pyerr",
       "traceback": [
        "\u001b[0;31m---------------------------------------------------------------------------\u001b[0m\n\u001b[0;31mValueError\u001b[0m                                Traceback (most recent call last)",
        "\u001b[0;32m<ipython-input-70-1927f3478150>\u001b[0m in \u001b[0;36m<module>\u001b[0;34m()\u001b[0m\n\u001b[1;32m      5\u001b[0m \u001b[0mx\u001b[0m \u001b[0;34m=\u001b[0m \u001b[0;34m[\u001b[0m\u001b[0;36m1980\u001b[0m\u001b[0;34m,\u001b[0m\u001b[0;36m1981\u001b[0m\u001b[0;34m,\u001b[0m\u001b[0;36m1982\u001b[0m\u001b[0;34m,\u001b[0m\u001b[0;36m1983\u001b[0m\u001b[0;34m,\u001b[0m\u001b[0;36m1984\u001b[0m\u001b[0;34m,\u001b[0m\u001b[0;36m1985\u001b[0m\u001b[0;34m,\u001b[0m\u001b[0;36m1986\u001b[0m\u001b[0;34m,\u001b[0m\u001b[0;36m1987\u001b[0m\u001b[0;34m,\u001b[0m\u001b[0;36m1988\u001b[0m\u001b[0;34m,\u001b[0m\u001b[0;36m1989\u001b[0m\u001b[0;34m,\u001b[0m\u001b[0;36m1990\u001b[0m\u001b[0;34m,\u001b[0m\u001b[0;36m1991\u001b[0m\u001b[0;34m,\u001b[0m\u001b[0;36m1992\u001b[0m\u001b[0;34m,\u001b[0m\u001b[0;36m1993\u001b[0m\u001b[0;34m,\u001b[0m\u001b[0;36m1994\u001b[0m\u001b[0;34m,\u001b[0m\u001b[0;36m1995\u001b[0m\u001b[0;34m,\u001b[0m\u001b[0;36m1996\u001b[0m\u001b[0;34m,\u001b[0m\u001b[0;36m1997\u001b[0m\u001b[0;34m,\u001b[0m\u001b[0;36m1998\u001b[0m\u001b[0;34m,\u001b[0m\u001b[0;36m1999\u001b[0m\u001b[0;34m,\u001b[0m\u001b[0;36m2000\u001b[0m\u001b[0;34m,\u001b[0m\u001b[0;36m2001\u001b[0m\u001b[0;34m,\u001b[0m\u001b[0;36m2002\u001b[0m\u001b[0;34m,\u001b[0m\u001b[0;36m2003\u001b[0m\u001b[0;34m,\u001b[0m\u001b[0;36m2004\u001b[0m\u001b[0;34m,\u001b[0m\u001b[0;36m2005\u001b[0m\u001b[0;34m,\u001b[0m\u001b[0;36m2006\u001b[0m\u001b[0;34m,\u001b[0m\u001b[0;36m2007\u001b[0m\u001b[0;34m,\u001b[0m\u001b[0;36m2008\u001b[0m\u001b[0;34m,\u001b[0m\u001b[0;36m2009\u001b[0m\u001b[0;34m]\u001b[0m\u001b[0;34m\u001b[0m\u001b[0m\n\u001b[1;32m      6\u001b[0m \u001b[0;32mwith\u001b[0m \u001b[0mopen\u001b[0m\u001b[0;34m(\u001b[0m\u001b[0;34m'Total_Carbon_Dioxide_Emissions.csv'\u001b[0m\u001b[0;34m,\u001b[0m \u001b[0;34m'rU'\u001b[0m\u001b[0;34m)\u001b[0m \u001b[0;32mas\u001b[0m \u001b[0mf\u001b[0m\u001b[0;34m:\u001b[0m\u001b[0;34m\u001b[0m\u001b[0m\n\u001b[0;32m----> 7\u001b[0;31m     \u001b[0my\u001b[0m \u001b[0;34m=\u001b[0m \u001b[0;34m{\u001b[0m\u001b[0mrow\u001b[0m\u001b[0;34m[\u001b[0m\u001b[0;36m1\u001b[0m\u001b[0;34m:\u001b[0m\u001b[0;36m31\u001b[0m\u001b[0;34m]\u001b[0m \u001b[0;32mfor\u001b[0m \u001b[0mrow\u001b[0m \u001b[0;32min\u001b[0m \u001b[0mreader\u001b[0m\u001b[0;34m}\u001b[0m\u001b[0;34m\u001b[0m\u001b[0m\n\u001b[0m\u001b[1;32m      8\u001b[0m \u001b[0;34m\u001b[0m\u001b[0m\n\u001b[1;32m      9\u001b[0m     \u001b[0mplt\u001b[0m\u001b[0;34m.\u001b[0m\u001b[0mscatter\u001b[0m\u001b[0;34m(\u001b[0m\u001b[0mx\u001b[0m\u001b[0;34m,\u001b[0m\u001b[0my\u001b[0m\u001b[0;34m,\u001b[0m\u001b[0mcolor\u001b[0m\u001b[0;34m=\u001b[0m\u001b[0mcolors\u001b[0m\u001b[0;34m.\u001b[0m\u001b[0mpop\u001b[0m\u001b[0;34m(\u001b[0m\u001b[0;34m)\u001b[0m\u001b[0;34m)\u001b[0m\u001b[0;34m\u001b[0m\u001b[0m\n",
        "\u001b[0;32m<ipython-input-70-1927f3478150>\u001b[0m in \u001b[0;36m<setcomp>\u001b[0;34m(***failed resolving arguments***)\u001b[0m\n\u001b[1;32m      5\u001b[0m \u001b[0mx\u001b[0m \u001b[0;34m=\u001b[0m \u001b[0;34m[\u001b[0m\u001b[0;36m1980\u001b[0m\u001b[0;34m,\u001b[0m\u001b[0;36m1981\u001b[0m\u001b[0;34m,\u001b[0m\u001b[0;36m1982\u001b[0m\u001b[0;34m,\u001b[0m\u001b[0;36m1983\u001b[0m\u001b[0;34m,\u001b[0m\u001b[0;36m1984\u001b[0m\u001b[0;34m,\u001b[0m\u001b[0;36m1985\u001b[0m\u001b[0;34m,\u001b[0m\u001b[0;36m1986\u001b[0m\u001b[0;34m,\u001b[0m\u001b[0;36m1987\u001b[0m\u001b[0;34m,\u001b[0m\u001b[0;36m1988\u001b[0m\u001b[0;34m,\u001b[0m\u001b[0;36m1989\u001b[0m\u001b[0;34m,\u001b[0m\u001b[0;36m1990\u001b[0m\u001b[0;34m,\u001b[0m\u001b[0;36m1991\u001b[0m\u001b[0;34m,\u001b[0m\u001b[0;36m1992\u001b[0m\u001b[0;34m,\u001b[0m\u001b[0;36m1993\u001b[0m\u001b[0;34m,\u001b[0m\u001b[0;36m1994\u001b[0m\u001b[0;34m,\u001b[0m\u001b[0;36m1995\u001b[0m\u001b[0;34m,\u001b[0m\u001b[0;36m1996\u001b[0m\u001b[0;34m,\u001b[0m\u001b[0;36m1997\u001b[0m\u001b[0;34m,\u001b[0m\u001b[0;36m1998\u001b[0m\u001b[0;34m,\u001b[0m\u001b[0;36m1999\u001b[0m\u001b[0;34m,\u001b[0m\u001b[0;36m2000\u001b[0m\u001b[0;34m,\u001b[0m\u001b[0;36m2001\u001b[0m\u001b[0;34m,\u001b[0m\u001b[0;36m2002\u001b[0m\u001b[0;34m,\u001b[0m\u001b[0;36m2003\u001b[0m\u001b[0;34m,\u001b[0m\u001b[0;36m2004\u001b[0m\u001b[0;34m,\u001b[0m\u001b[0;36m2005\u001b[0m\u001b[0;34m,\u001b[0m\u001b[0;36m2006\u001b[0m\u001b[0;34m,\u001b[0m\u001b[0;36m2007\u001b[0m\u001b[0;34m,\u001b[0m\u001b[0;36m2008\u001b[0m\u001b[0;34m,\u001b[0m\u001b[0;36m2009\u001b[0m\u001b[0;34m]\u001b[0m\u001b[0;34m\u001b[0m\u001b[0m\n\u001b[1;32m      6\u001b[0m \u001b[0;32mwith\u001b[0m \u001b[0mopen\u001b[0m\u001b[0;34m(\u001b[0m\u001b[0;34m'Total_Carbon_Dioxide_Emissions.csv'\u001b[0m\u001b[0;34m,\u001b[0m \u001b[0;34m'rU'\u001b[0m\u001b[0;34m)\u001b[0m \u001b[0;32mas\u001b[0m \u001b[0mf\u001b[0m\u001b[0;34m:\u001b[0m\u001b[0;34m\u001b[0m\u001b[0m\n\u001b[0;32m----> 7\u001b[0;31m     \u001b[0my\u001b[0m \u001b[0;34m=\u001b[0m \u001b[0;34m{\u001b[0m\u001b[0mrow\u001b[0m\u001b[0;34m[\u001b[0m\u001b[0;36m1\u001b[0m\u001b[0;34m:\u001b[0m\u001b[0;36m31\u001b[0m\u001b[0;34m]\u001b[0m \u001b[0;32mfor\u001b[0m \u001b[0mrow\u001b[0m \u001b[0;32min\u001b[0m \u001b[0mreader\u001b[0m\u001b[0;34m}\u001b[0m\u001b[0;34m\u001b[0m\u001b[0m\n\u001b[0m\u001b[1;32m      8\u001b[0m \u001b[0;34m\u001b[0m\u001b[0m\n\u001b[1;32m      9\u001b[0m     \u001b[0mplt\u001b[0m\u001b[0;34m.\u001b[0m\u001b[0mscatter\u001b[0m\u001b[0;34m(\u001b[0m\u001b[0mx\u001b[0m\u001b[0;34m,\u001b[0m\u001b[0my\u001b[0m\u001b[0;34m,\u001b[0m\u001b[0mcolor\u001b[0m\u001b[0;34m=\u001b[0m\u001b[0mcolors\u001b[0m\u001b[0;34m.\u001b[0m\u001b[0mpop\u001b[0m\u001b[0;34m(\u001b[0m\u001b[0;34m)\u001b[0m\u001b[0;34m)\u001b[0m\u001b[0;34m\u001b[0m\u001b[0m\n",
        "\u001b[0;31mValueError\u001b[0m: I/O operation on closed file"
       ]
      }
     ],
     "prompt_number": 70
    },
    {
     "cell_type": "code",
     "collapsed": false,
     "input": [],
     "language": "python",
     "metadata": {},
     "outputs": []
    },
    {
     "cell_type": "code",
     "collapsed": false,
     "input": [],
     "language": "python",
     "metadata": {},
     "outputs": []
    }
   ],
   "metadata": {}
  }
 ]
}