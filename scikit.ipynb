{
 "metadata": {
  "name": "",
  "signature": "sha256:9d25e680486a05953495d46a0c80551c0c03eafa7231c07019b1a90d2a11d361"
 },
 "nbformat": 3,
 "nbformat_minor": 0,
 "worksheets": [
  {
   "cells": [
    {
     "cell_type": "code",
     "collapsed": false,
     "input": [
      "import csv\n",
      "china={}\n",
      "with open('china_annual_temp.csv', 'rU') as f:\n",
      "    reader = csv.reader(f)\n",
      "    \n",
      "    for row in reader:\n",
      "        key = row[0]\n",
      "        if key in china:\n",
      "            pass\n",
      "       \n",
      "        china[key] = row[1:]\n",
      "#print china"
     ],
     "language": "python",
     "metadata": {},
     "outputs": [],
     "prompt_number": 2
    },
    {
     "cell_type": "code",
     "collapsed": false,
     "input": [
      "import matplotlib.pyplot as plt\n",
      "import numpy as np\n",
      "from sklearn import datasets, linear_model\n",
      "\n",
      "# Load the temp dataset\n",
      "dataset = np.loadtxt('china_annual_temp.csv', delimiter=\",\")\n",
      "train_y = dataset[:,1] \n",
      "\n",
      "#print train_y[:-20]\n",
      "#train_y = range(len(dataset[:,1])+1)\n",
      "\n",
      "train_x = []\n",
      "t_x = []\n",
      "\n",
      "for i in range(0,len(train_y)):\n",
      "    t_x.append(i)\n",
      "    train_x.append(t_x)\n",
      "    t_x = []\n",
      "\n",
      "test_x = []\n",
      "tt_x = []\n",
      "\n",
      "for i in range(len(train_x)+1,len(train_x)+12):\n",
      "    tt_x.append(i)\n",
      "    test_x.append(tt_x)\n",
      "    tt_x = []\n",
      "    \n",
      "print test_x \n",
      "\n",
      "\n",
      "#print target_x\n",
      "\n",
      "# Create linear regression object\n",
      "regr = linear_model.LinearRegression()\n",
      "\n",
      "# Train the model using the training sets\n",
      "\n",
      "print len(train_x)\n",
      "print len(train_y)\n",
      "regr.fit(train_x, train_y)\n",
      "\n",
      "\n",
      "\n",
      "# The coefficients\n",
      "print('Coefficients: \\n', regr.coef_)\n",
      "\n",
      "predictions= regr.predict(test_x)\n",
      "\n",
      "for i in range(0,len(test_x)):\n",
      "    print test_x[i], predictions[i]\n",
      "\n",
      "plt.scatter(train_x[-20:], train_y[-20:],  color='black')\n",
      "plt.plot(test_x, regr.predict(test_x), color='blue',\n",
      "         linewidth=3)\n",
      "\n",
      "plt.xticks(())\n",
      "plt.yticks(())\n",
      "\n",
      "plt.show()\n",
      "    \n",
      "    "
     ],
     "language": "python",
     "metadata": {},
     "outputs": [
      {
       "output_type": "stream",
       "stream": "stdout",
       "text": [
        "[[1360], [1361], [1362], [1363], [1364], [1365], [1366], [1367], [1368], [1369], [1370]]\n",
        "1359\n",
        "1359\n",
        "('Coefficients: \\n', array([ 0.00091496]))\n",
        "[1360] 0.684426742228\n",
        "[1361] 0.685341700799\n",
        "[1362] 0.686256659369\n",
        "[1363] 0.687171617939\n",
        "[1364] 0.688086576509\n",
        "[1365] 0.68900153508\n",
        "[1366] 0.68991649365\n",
        "[1367] 0.69083145222\n",
        "[1368] 0.691746410791\n",
        "[1369] 0.692661369361\n",
        "[1370] 0.693576327931\n"
       ]
      }
     ],
     "prompt_number": 67
    },
    {
     "cell_type": "code",
     "collapsed": false,
     "input": [],
     "language": "python",
     "metadata": {},
     "outputs": [],
     "prompt_number": 66
    },
    {
     "cell_type": "code",
     "collapsed": false,
     "input": [],
     "language": "python",
     "metadata": {},
     "outputs": []
    }
   ],
   "metadata": {}
  }
 ]
}