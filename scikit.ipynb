{
 "metadata": {
  "name": "",
  "signature": "sha256:1a526f6f9f63536abf560efecdfc461b379f36a6b47125d7f1b97a66d2e6da31"
 },
 "nbformat": 3,
 "nbformat_minor": 0,
 "worksheets": [
  {
   "cells": [
    {
     "cell_type": "code",
     "collapsed": false,
     "input": [
      "import csv\n",
      "china={}\n",
      "with open('china_annual_temp.csv', 'rU') as f:\n",
      "    reader = csv.reader(f)\n",
      "    \n",
      "    for row in reader:\n",
      "        key = row[0]\n",
      "        if key in china:\n",
      "            pass\n",
      "       \n",
      "        china[key] = row[1:]\n",
      "print china"
     ],
     "language": "python",
     "metadata": {},
     "outputs": [],
     "prompt_number": 2
    },
    {
     "cell_type": "code",
     "collapsed": false,
     "input": [
      "import numpy\n"
     ],
     "language": "python",
     "metadata": {},
     "outputs": []
    }
   ],
   "metadata": {}
  }
 ]
}