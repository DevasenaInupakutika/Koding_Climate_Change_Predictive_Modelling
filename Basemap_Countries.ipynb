{
 "metadata": {
  "name": "",
  "signature": "sha256:291785e19cd2aff6c715afde4140cf9136f6b8a5ef5365ed991abf1fed269790"
 },
 "nbformat": 3,
 "nbformat_minor": 0,
 "worksheets": [
  {
   "cells": [
    {
     "cell_type": "code",
     "collapsed": false,
     "input": [
      "from mpl_toolkits.basemap import Basemap\n",
      "import matplotlib.pyplot as plt\n",
      "import numpy as np\n",
      "\n",
      "map = Basemap (projection='merc', lat_0=35.86166, lon_0=104.195397, resolution='l', area_thresh=500.0,\n",
      "      llcrnrlon= 20,llcrnrlat= 59,urcrnrlon= 32,urcrnrlat= 72)\n",
      "      \n",
      "map.drawcoastlines()\n",
      "map.drawcountries()\n",
      "map.fillcontinents(color='coral')\n",
      "map.drawmapboundary()\n",
      "      \n",
      "map.drawmeridians(np.arange(0,360,30))\n",
      "map.drawparallels(np.arange(-90,90,30))\n",
      "lat=63\n",
      "lon=27\n",
      "x,y = map(lon, lat)\n",
      "map.plot (x,y, 'bo', markersize=12)\n",
      "plt.text (x+0.25, y+0.25, 'town1')\n",
      "      \n",
      "plt.savefig('map_plot.png')    \n"
     ],
     "language": "python",
     "metadata": {},
     "outputs": [],
     "prompt_number": 2
    },
    {
     "cell_type": "code",
     "collapsed": false,
     "input": [],
     "language": "python",
     "metadata": {},
     "outputs": []
    }
   ],
   "metadata": {}
  }
 ]
}