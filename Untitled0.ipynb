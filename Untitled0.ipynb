{
 "metadata": {
  "name": "",
  "signature": "sha256:2c866b550130e19fe791020e8dafece3aaa1b9c1d1226cfd97a89c047b12a7aa"
 },
 "nbformat": 3,
 "nbformat_minor": 0,
 "worksheets": [
  {
   "cells": [
    {
     "cell_type": "code",
     "collapsed": false,
     "input": [
      "print(__doc__)\n",
      "\n",
      "\n",
      "# Code source: Jaques Grobler\n",
      "# License: BSD 3 clause\n",
      "\n",
      "\n",
      "import matplotlib.pyplot as plt\n",
      "import numpy as np\n",
      "from sklearn import datasets, linear_model\n",
      "\n",
      "# Load the diabetes dataset\n",
      "diabetes = datasets.load_diabetes()\n",
      "\n",
      "\n",
      "# Use only one feature\n",
      "diabetes_X = diabetes.data[:, np.newaxis]\n",
      "diabetes_X_temp = diabetes_X[:, :, 2]\n",
      "\n",
      "# Split the data into training/testing sets\n",
      "diabetes_X_train = diabetes_X_temp[:-20]\n",
      "diabetes_X_test = diabetes_X_temp[-20:]\n",
      "\n",
      "# Split the targets into training/testing sets\n",
      "diabetes_y_train = diabetes.target[:-20]\n",
      "diabetes_y_test = diabetes.target[-20:]\n",
      "\n",
      "# Create linear regression object\n",
      "regr = linear_model.LinearRegression()\n",
      "\n",
      "# Train the model using the training sets\n",
      "print diabetes_X_test\n",
      "print diabetes_y_test\n",
      "\n",
      "regr.fit(diabetes_X_train, diabetes_y_train)\n",
      "\n",
      "# The coefficients\n",
      "print('Coefficients: \\n', regr.coef_)\n",
      "# The mean square error\n",
      "print(\"Residual sum of squares: %.2f\"\n",
      "      % np.mean((regr.predict(diabetes_X_test) - diabetes_y_test) ** 2))\n",
      "# Explained variance score: 1 is perfect prediction\n",
      "print('Variance score: %.2f' % regr.score(diabetes_X_test, diabetes_y_test))\n",
      "\n",
      "# Plot outputs\n",
      "plt.scatter(diabetes_X_test, diabetes_y_test,  color='black')\n",
      "plt.plot(diabetes_X_test, regr.predict(diabetes_X_test), color='blue',\n",
      "         linewidth=3)\n",
      "\n",
      "plt.xticks(())\n",
      "plt.yticks(())\n",
      "\n",
      "plt.show()"
     ],
     "language": "python",
     "metadata": {},
     "outputs": [
      {
       "output_type": "stream",
       "stream": "stdout",
       "text": [
        "Automatically created module for IPython interactive environment\n",
        "[[ 0.07786339]\n",
        " [-0.03961813]\n",
        " [ 0.01103904]\n",
        " [-0.04069594]\n",
        " [-0.03422907]\n",
        " [ 0.00564998]\n",
        " [ 0.08864151]\n",
        " [-0.03315126]\n",
        " [-0.05686312]\n",
        " [-0.03099563]\n",
        " [ 0.05522933]\n",
        " [-0.06009656]\n",
        " [ 0.00133873]\n",
        " [-0.02345095]\n",
        " [-0.07410811]\n",
        " [ 0.01966154]\n",
        " [-0.01590626]\n",
        " [-0.01590626]\n",
        " [ 0.03906215]\n",
        " [-0.0730303 ]]\n",
        "[ 233.   91.  111.  152.  120.   67.  310.   94.  183.   66.  173.   72.\n",
        "   49.   64.   48.  178.  104.  132.  220.   57.]\n",
        "('Coefficients: \\n', array([ 938.23786125]))\n",
        "Residual sum of squares: 2548.07\n",
        "Variance score: 0.47\n"
       ]
      }
     ],
     "prompt_number": 6
    },
    {
     "cell_type": "code",
     "collapsed": false,
     "input": [],
     "language": "python",
     "metadata": {},
     "outputs": []
    }
   ],
   "metadata": {}
  }
 ]
}