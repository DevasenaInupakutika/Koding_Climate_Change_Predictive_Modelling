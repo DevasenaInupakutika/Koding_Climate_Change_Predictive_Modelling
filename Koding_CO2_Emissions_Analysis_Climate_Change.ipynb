{
 "metadata": {
  "name": "",
  "signature": "sha256:af58bd90b81f230cde7c92577ea0d28b054963b878edf4d9c0098c36e17a0a2e"
 },
 "nbformat": 3,
 "nbformat_minor": 0,
 "worksheets": [
  {
   "cells": [
    {
     "cell_type": "code",
     "collapsed": false,
     "input": [
      "import csv\n",
      "with open('Total_Carbon_Dioxide_Emissions.csv', 'rU') as f:\n",
      "    reader = csv.reader(f)\n",
      "    \n",
      "    with open('Total_Carbon_Dioxide_Emissions_new.csv',mode='w') as outfile:\n",
      "        writer = csv.writer(outfile)\n",
      "        mydict = {row[0]:row[1] for row in reader}\n",
      "        \n",
      "mydict        \n",
      "    #for row in reader:\n",
      "    #    print row"
     ],
     "language": "python",
     "metadata": {},
     "outputs": []
    },
    {
     "cell_type": "code",
     "collapsed": false,
     "input": [
      "import matplotlib.pyplot as plt\n",
      "plt.bar(range(len(mydict)), mydict.values(), align='center')\n",
      "plt.xticks(range(len(mydict)), mydict.keys())\n",
      "plt.show()\n",
      "\n",
      "\n"
     ],
     "language": "python",
     "metadata": {},
     "outputs": []
    },
    {
     "cell_type": "code",
     "collapsed": false,
     "input": [],
     "language": "python",
     "metadata": {},
     "outputs": []
    },
    {
     "cell_type": "code",
     "collapsed": false,
     "input": [],
     "language": "python",
     "metadata": {},
     "outputs": []
    }
   ],
   "metadata": {}
  }
 ]
}